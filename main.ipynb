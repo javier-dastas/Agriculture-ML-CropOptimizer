{
 "cells": [
  {
   "cell_type": "markdown",
   "id": "62b92582-a19b-4fb2-bfd4-db9845cbd783",
   "metadata": {},
   "source": [
    "# Sowing Success: How Machine Learning Helps Farmers Select the Best Crops\n",
    "\n",
    "Measuring essential soil metrics such as nitrogen, phosphorous, potassium levels, and pH value is an important aspect of assessing soil condition. However, it can be an expensive and time-consuming process, which can cause farmers to prioritize which metrics to measure based on their budget constraints.\n",
    "\n",
    "Farmers have various options when it comes to deciding which crop to plant each season. Their primary objective is to maximize the yield of their crops, taking into account different factors. One crucial factor that affects crop growth is the condition of the soil in the field, which can be assessed by measuring basic elements such as nitrogen and potassium levels. Each crop has an ideal soil condition that ensures optimal growth and maximum yield.\n",
    "\n",
    "A farmer reached out to you as a machine learning expert for assistance in selecting the best crop for his field. They've provided you with a dataset called `soil_measures.csv`, which contains:\n",
    "\n",
    "- `\"N\"`: Nitrogen content ratio in the soil\n",
    "- `\"P\"`: Phosphorous content ratio in the soil\n",
    "- `\"K\"`: Potassium content ratio in the soil\n",
    "- `\"pH\"` value of the soil\n",
    "- `\"crop\"`: categorical values that contain various crops (target variable).\n",
    "\n",
    "Each row in this dataset represents various measures of the soil in a particular field. Based on these measurements, the crop specified in the `\"crop\"` column is the optimal choice for that field.  \n",
    "\n",
    "In this project, I build a multi-class classification models to predict the type of `\"crop\"` and identify the single most importance feature for predictive performance."
   ]
  },
  {
   "cell_type": "code",
   "execution_count": 23,
   "id": "30b64754-6825-4f25-8f19-f2ea7eb12d6e",
   "metadata": {},
   "outputs": [],
   "source": [
    "# All required libraries are imported here for you.\n",
    "import pandas as pd\n",
    "\n",
    "from sklearn.linear_model import LogisticRegression\n",
    "from sklearn.ensemble import RandomForestClassifier\n",
    "\n",
    "from sklearn.model_selection import train_test_split\n",
    "\n",
    "from sklearn.preprocessing import StandardScaler\n",
    "from sklearn.metrics import accuracy_score\n",
    "\n",
    "import matplotlib.pyplot as plt"
   ]
  },
  {
   "cell_type": "code",
   "execution_count": 3,
   "id": "bd0ef8d5-7326-4526-939e-23b341c2b964",
   "metadata": {},
   "outputs": [
    {
     "name": "stdout",
     "output_type": "stream",
     "text": [
      "DataSet Shape:  (2200, 5)\n"
     ]
    },
    {
     "data": {
      "text/html": [
       "<div>\n",
       "<style scoped>\n",
       "    .dataframe tbody tr th:only-of-type {\n",
       "        vertical-align: middle;\n",
       "    }\n",
       "\n",
       "    .dataframe tbody tr th {\n",
       "        vertical-align: top;\n",
       "    }\n",
       "\n",
       "    .dataframe thead th {\n",
       "        text-align: right;\n",
       "    }\n",
       "</style>\n",
       "<table border=\"1\" class=\"dataframe\">\n",
       "  <thead>\n",
       "    <tr style=\"text-align: right;\">\n",
       "      <th></th>\n",
       "      <th>N</th>\n",
       "      <th>P</th>\n",
       "      <th>K</th>\n",
       "      <th>ph</th>\n",
       "      <th>crop</th>\n",
       "    </tr>\n",
       "  </thead>\n",
       "  <tbody>\n",
       "    <tr>\n",
       "      <th>0</th>\n",
       "      <td>90</td>\n",
       "      <td>42</td>\n",
       "      <td>43</td>\n",
       "      <td>6.502985</td>\n",
       "      <td>rice</td>\n",
       "    </tr>\n",
       "    <tr>\n",
       "      <th>1</th>\n",
       "      <td>85</td>\n",
       "      <td>58</td>\n",
       "      <td>41</td>\n",
       "      <td>7.038096</td>\n",
       "      <td>rice</td>\n",
       "    </tr>\n",
       "    <tr>\n",
       "      <th>2</th>\n",
       "      <td>60</td>\n",
       "      <td>55</td>\n",
       "      <td>44</td>\n",
       "      <td>7.840207</td>\n",
       "      <td>rice</td>\n",
       "    </tr>\n",
       "    <tr>\n",
       "      <th>3</th>\n",
       "      <td>74</td>\n",
       "      <td>35</td>\n",
       "      <td>40</td>\n",
       "      <td>6.980401</td>\n",
       "      <td>rice</td>\n",
       "    </tr>\n",
       "    <tr>\n",
       "      <th>4</th>\n",
       "      <td>78</td>\n",
       "      <td>42</td>\n",
       "      <td>42</td>\n",
       "      <td>7.628473</td>\n",
       "      <td>rice</td>\n",
       "    </tr>\n",
       "  </tbody>\n",
       "</table>\n",
       "</div>"
      ],
      "text/plain": [
       "    N   P   K        ph  crop\n",
       "0  90  42  43  6.502985  rice\n",
       "1  85  58  41  7.038096  rice\n",
       "2  60  55  44  7.840207  rice\n",
       "3  74  35  40  6.980401  rice\n",
       "4  78  42  42  7.628473  rice"
      ]
     },
     "execution_count": 3,
     "metadata": {},
     "output_type": "execute_result"
    }
   ],
   "source": [
    "file_path = './dataset/soil_measures.csv'\n",
    "\n",
    "# Load the dataset\n",
    "crops = pd.read_csv(file_path)\n",
    "\n",
    "print('DataSet Shape: ', crops.shape)\n",
    "\n",
    "crops.head()"
   ]
  },
  {
   "cell_type": "code",
   "execution_count": 4,
   "id": "874e7a5d-342e-4f06-b331-b1a3ae078aa6",
   "metadata": {},
   "outputs": [
    {
     "data": {
      "text/plain": [
       "N         int64\n",
       "P         int64\n",
       "K         int64\n",
       "ph      float64\n",
       "crop     object\n",
       "dtype: object"
      ]
     },
     "execution_count": 4,
     "metadata": {},
     "output_type": "execute_result"
    }
   ],
   "source": [
    "crops.dtypes"
   ]
  },
  {
   "cell_type": "code",
   "execution_count": 5,
   "id": "437b1d39-0f9e-4a03-a55b-d1d42065e1b4",
   "metadata": {},
   "outputs": [
    {
     "name": "stdout",
     "output_type": "stream",
     "text": [
      "Null Values: \n"
     ]
    },
    {
     "data": {
      "text/plain": [
       "N       0\n",
       "P       0\n",
       "K       0\n",
       "ph      0\n",
       "crop    0\n",
       "dtype: int64"
      ]
     },
     "execution_count": 5,
     "metadata": {},
     "output_type": "execute_result"
    }
   ],
   "source": [
    "print('Null Values: ')\n",
    "crops.isnull().sum()"
   ]
  },
  {
   "cell_type": "code",
   "execution_count": 6,
   "id": "a419ee3d-2e85-4fa1-a63a-c9231bff93ad",
   "metadata": {},
   "outputs": [
    {
     "data": {
      "text/plain": [
       "array([[<Axes: title={'center': 'N'}>, <Axes: title={'center': 'P'}>],\n",
       "       [<Axes: title={'center': 'K'}>, <Axes: title={'center': 'ph'}>]],\n",
       "      dtype=object)"
      ]
     },
     "execution_count": 6,
     "metadata": {},
     "output_type": "execute_result"
    },
    {
     "data": {
      "image/png": "[encoded data removed]",
      "text/plain": [
       "<Figure size 640x480 with 4 Axes>"
      ]
     },
     "metadata": {},
     "output_type": "display_data"
    }
   ],
   "source": [
    "crops.hist()"
   ]
  },
  {
   "cell_type": "markdown",
   "id": "2f27fe29-e51c-4735-ad81-6cb4d4fe696c",
   "metadata": {},
   "source": [
    "## LogisticRegression Approach"
   ]
  },
  {
   "cell_type": "code",
   "execution_count": 37,
   "id": "63e664ab-97bc-4fc7-8384-6bc1c417d380",
   "metadata": {},
   "outputs": [
    {
     "name": "stdout",
     "output_type": "stream",
     "text": [
      "LogisticRegression - Searching for the best feature predictor ...\n",
      "\n",
      "Best Predictive Feature and Score: {'K': 0.2409090909090909}\n"
     ]
    }
   ],
   "source": [
    "# Separate features and target\n",
    "features = ['N', 'P', 'K', 'ph']\n",
    "target = 'crop'\n",
    "\n",
    "best_feature = None\n",
    "best_score = 0\n",
    "\n",
    "print('LogisticRegression - Searching for the best feature predictor ...')\n",
    "# Evaluate each feature independently\n",
    "for feature in features:\n",
    "    # Split the data using the current feature\n",
    "    X = crops[[feature]]\n",
    "    y = crops[target]\n",
    "   \n",
    "    # Scale the feature using StandardScaler\n",
    "    scaler = StandardScaler()\n",
    "    X_scaled = scaler.fit_transform(X)\n",
    "    \n",
    "    # Train-test split\n",
    "    X_train, X_test, y_train, y_test = train_test_split(X, y, test_size=0.2, random_state=42) \n",
    "    \n",
    "    # Train the Logistic Regression model with the 'saga' solver\n",
    "    model = LogisticRegression(solver='saga', max_iter=10000)\n",
    "    model.fit(X_train, y_train) # Train the model with one feature\n",
    "    \n",
    "    # Make predictions\n",
    "    y_pred = model.predict(X_test)\n",
    "    \n",
    "    # Evaluate using accuracy\n",
    "    score = accuracy_score(y_test, y_pred) # Get the accuracy for feature on train\n",
    "    \n",
    "    # Update the best feature if current score is better\n",
    "    if score > best_score:\n",
    "        best_score = score\n",
    "        best_feature = feature\n",
    "\n",
    "# Display the best predictive feature and its accuracy score\n",
    "best_predictive_feature = {best_feature: best_score}\n",
    "print(\"\\nBest Predictive Feature and Score:\", best_predictive_feature) # Print the best feature with its accuracy score"
   ]
  },
  {
   "cell_type": "markdown",
   "id": "ce45d619-ff82-4d11-b1ae-c60fd08ebf45",
   "metadata": {},
   "source": [
    "## RandomForestClassifier"
   ]
  },
  {
   "cell_type": "code",
   "execution_count": 33,
   "id": "9a24a084-7729-4cae-8f39-5333ffa35b2c",
   "metadata": {},
   "outputs": [
    {
     "name": "stdout",
     "output_type": "stream",
     "text": [
      "RandomForestClassifier - Searching for the best feature predictor ...\n",
      "\n",
      "Best Predictive Feature and Score: {'K': 0.3090909090909091}\n"
     ]
    },
    {
     "data": {
      "image/png": "[encoded data removed]",
      "text/plain": [
       "<Figure size 640x480 with 1 Axes>"
      ]
     },
     "metadata": {},
     "output_type": "display_data"
    }
   ],
   "source": [
    "best_feature = None\n",
    "best_score = 0\n",
    "\n",
    "print('RandomForestClassifier - Searching for the best feature predictor ...')\n",
    "# Evaluate each feature independently\n",
    "for feature in features:\n",
    "    # Split the data using the current feature\n",
    "    X = crops[[feature]]\n",
    "    y = crops[target]\n",
    "   \n",
    "    # Scale the feature using StandardScaler\n",
    "    scaler = StandardScaler()\n",
    "    X_scaled = scaler.fit_transform(X)\n",
    "    \n",
    "    # Train-test split\n",
    "    X_train, X_test, y_train, y_test = train_test_split(X, y, test_size=0.2, random_state=42) \n",
    "    \n",
    "    # Train the Random Forest Classifier model \n",
    "    model = RandomForestClassifier(n_estimators=100, random_state=42)\n",
    "    model.fit(X_train, y_train)\n",
    "    \n",
    "    # Make predictions\n",
    "    y_pred = model.predict(X_test)\n",
    "    \n",
    "    # Evaluate using accuracy\n",
    "    score = accuracy_score(y_test, y_pred) # Get the accuracy for feature on train\n",
    "    \n",
    "    # Update the best feature if current score is better\n",
    "    if score > best_score:\n",
    "        best_score = score\n",
    "        best_feature = feature\n",
    "\n",
    "# Display the best predictive feature and its accuracy score\n",
    "best_predictive_feature = {best_feature: best_score}\n",
    "print(\"\\nBest Predictive Feature and Score:\", best_predictive_feature) # Print the best feature with its accuracy score\n",
    "\n",
    "# For RandomForest Importances Features\n",
    "importances = model.feature_importances_\n",
    "plt.bar(['N', 'P', 'K', 'ph'], importances)\n",
    "plt.xlabel('Features')\n",
    "plt.ylabel('Importance')\n",
    "plt.title('Feature Importance (Random Forest)')\n",
    "plt.show()"
   ]
  },
  {
   "cell_type": "markdown",
   "id": "cc57579b-3dbe-45e6-a0ef-cf54977d666c",
   "metadata": {},
   "source": [
    "## Conclusions:\n",
    "\n",
    "The Logistic Regression and Random Forest Classifier indicate K (potassium) as the best feature for predicting crop type. However, even with Random Forest, the accuracy is still low (30.91%), which confirms that the current features do not provide sufficient predictive power.\n",
    "\n",
    "## Possible Explanations for Low Predictive Power:\n",
    "- Limited feature set: The current features (N, P, K, and ph) may not capture the complex factors that determine crop type. Environmental or soil properties such as moisture, temperature, or soil texture might be necessary.\n",
    "- Feature Engineering: Create new features based on domain knowledge like the combination between features may could provide more predictive accuracy."
   ]
  }
 ],
 "metadata": {
  "kernelspec": {
   "display_name": "Python (base)",
   "language": "python",
   "name": "base"
  },
  "language_info": {
   "codemirror_mode": {
    "name": "ipython",
    "version": 3
   },
   "file_extension": ".py",
   "mimetype": "text/x-python",
   "name": "python",
   "nbconvert_exporter": "python",
   "pygments_lexer": "ipython3",
   "version": "3.12.2"
  }
 },
 "nbformat": 4,
 "nbformat_minor": 5
}
